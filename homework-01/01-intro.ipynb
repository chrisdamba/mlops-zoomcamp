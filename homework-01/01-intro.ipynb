{
 "cells": [
  {
   "cell_type": "code",
   "execution_count": 19,
   "id": "initial_id",
   "metadata": {
    "collapsed": true,
    "ExecuteTime": {
     "end_time": "2024-05-20T08:51:57.124815Z",
     "start_time": "2024-05-20T08:51:57.119550Z"
    }
   },
   "outputs": [],
   "source": [
    "import pandas as pd # working with tabular data\n",
    "from sklearn.feature_extraction import DictVectorizer # Machine Learning\n",
    "from sklearn.linear_model import LinearRegression # Machine Learning\n",
    "from sklearn.metrics import root_mean_squared_error # RMSE\n"
   ]
  },
  {
   "cell_type": "code",
   "outputs": [
    {
     "data": {
      "text/plain": "         VendorID tpep_pickup_datetime tpep_dropoff_datetime  passenger_count  \\\n0               2  2023-01-01 00:32:10   2023-01-01 00:40:36              1.0   \n1               2  2023-01-01 00:55:08   2023-01-01 01:01:27              1.0   \n2               2  2023-01-01 00:25:04   2023-01-01 00:37:49              1.0   \n3               1  2023-01-01 00:03:48   2023-01-01 00:13:25              0.0   \n4               2  2023-01-01 00:10:29   2023-01-01 00:21:19              1.0   \n...           ...                  ...                   ...              ...   \n3066761         2  2023-01-31 23:58:34   2023-02-01 00:12:33              NaN   \n3066762         2  2023-01-31 23:31:09   2023-01-31 23:50:36              NaN   \n3066763         2  2023-01-31 23:01:05   2023-01-31 23:25:36              NaN   \n3066764         2  2023-01-31 23:40:00   2023-01-31 23:53:00              NaN   \n3066765         2  2023-01-31 23:07:32   2023-01-31 23:21:56              NaN   \n\n         trip_distance  RatecodeID store_and_fwd_flag  PULocationID  \\\n0                 0.97         1.0                  N           161   \n1                 1.10         1.0                  N            43   \n2                 2.51         1.0                  N            48   \n3                 1.90         1.0                  N           138   \n4                 1.43         1.0                  N           107   \n...                ...         ...                ...           ...   \n3066761           3.05         NaN               None           107   \n3066762           5.80         NaN               None           112   \n3066763           4.67         NaN               None           114   \n3066764           3.15         NaN               None           230   \n3066765           2.85         NaN               None           262   \n\n         DOLocationID  payment_type  fare_amount  extra  mta_tax  tip_amount  \\\n0                 141             2         9.30   1.00      0.5        0.00   \n1                 237             1         7.90   1.00      0.5        4.00   \n2                 238             1        14.90   1.00      0.5       15.00   \n3                   7             1        12.10   7.25      0.5        0.00   \n4                  79             1        11.40   1.00      0.5        3.28   \n...               ...           ...          ...    ...      ...         ...   \n3066761            48             0        15.80   0.00      0.5        3.96   \n3066762            75             0        22.43   0.00      0.5        2.64   \n3066763           239             0        17.61   0.00      0.5        5.32   \n3066764            79             0        18.15   0.00      0.5        4.43   \n3066765           143             0        15.97   0.00      0.5        2.00   \n\n         tolls_amount  improvement_surcharge  total_amount  \\\n0                 0.0                    1.0         14.30   \n1                 0.0                    1.0         16.90   \n2                 0.0                    1.0         34.90   \n3                 0.0                    1.0         20.85   \n4                 0.0                    1.0         19.68   \n...               ...                    ...           ...   \n3066761           0.0                    1.0         23.76   \n3066762           0.0                    1.0         29.07   \n3066763           0.0                    1.0         26.93   \n3066764           0.0                    1.0         26.58   \n3066765           0.0                    1.0         21.97   \n\n         congestion_surcharge  airport_fee  \n0                         2.5         0.00  \n1                         2.5         0.00  \n2                         2.5         0.00  \n3                         0.0         1.25  \n4                         2.5         0.00  \n...                       ...          ...  \n3066761                   NaN          NaN  \n3066762                   NaN          NaN  \n3066763                   NaN          NaN  \n3066764                   NaN          NaN  \n3066765                   NaN          NaN  \n\n[3066766 rows x 19 columns]",
      "text/html": "<div>\n<style scoped>\n    .dataframe tbody tr th:only-of-type {\n        vertical-align: middle;\n    }\n\n    .dataframe tbody tr th {\n        vertical-align: top;\n    }\n\n    .dataframe thead th {\n        text-align: right;\n    }\n</style>\n<table border=\"1\" class=\"dataframe\">\n  <thead>\n    <tr style=\"text-align: right;\">\n      <th></th>\n      <th>VendorID</th>\n      <th>tpep_pickup_datetime</th>\n      <th>tpep_dropoff_datetime</th>\n      <th>passenger_count</th>\n      <th>trip_distance</th>\n      <th>RatecodeID</th>\n      <th>store_and_fwd_flag</th>\n      <th>PULocationID</th>\n      <th>DOLocationID</th>\n      <th>payment_type</th>\n      <th>fare_amount</th>\n      <th>extra</th>\n      <th>mta_tax</th>\n      <th>tip_amount</th>\n      <th>tolls_amount</th>\n      <th>improvement_surcharge</th>\n      <th>total_amount</th>\n      <th>congestion_surcharge</th>\n      <th>airport_fee</th>\n    </tr>\n  </thead>\n  <tbody>\n    <tr>\n      <th>0</th>\n      <td>2</td>\n      <td>2023-01-01 00:32:10</td>\n      <td>2023-01-01 00:40:36</td>\n      <td>1.0</td>\n      <td>0.97</td>\n      <td>1.0</td>\n      <td>N</td>\n      <td>161</td>\n      <td>141</td>\n      <td>2</td>\n      <td>9.30</td>\n      <td>1.00</td>\n      <td>0.5</td>\n      <td>0.00</td>\n      <td>0.0</td>\n      <td>1.0</td>\n      <td>14.30</td>\n      <td>2.5</td>\n      <td>0.00</td>\n    </tr>\n    <tr>\n      <th>1</th>\n      <td>2</td>\n      <td>2023-01-01 00:55:08</td>\n      <td>2023-01-01 01:01:27</td>\n      <td>1.0</td>\n      <td>1.10</td>\n      <td>1.0</td>\n      <td>N</td>\n      <td>43</td>\n      <td>237</td>\n      <td>1</td>\n      <td>7.90</td>\n      <td>1.00</td>\n      <td>0.5</td>\n      <td>4.00</td>\n      <td>0.0</td>\n      <td>1.0</td>\n      <td>16.90</td>\n      <td>2.5</td>\n      <td>0.00</td>\n    </tr>\n    <tr>\n      <th>2</th>\n      <td>2</td>\n      <td>2023-01-01 00:25:04</td>\n      <td>2023-01-01 00:37:49</td>\n      <td>1.0</td>\n      <td>2.51</td>\n      <td>1.0</td>\n      <td>N</td>\n      <td>48</td>\n      <td>238</td>\n      <td>1</td>\n      <td>14.90</td>\n      <td>1.00</td>\n      <td>0.5</td>\n      <td>15.00</td>\n      <td>0.0</td>\n      <td>1.0</td>\n      <td>34.90</td>\n      <td>2.5</td>\n      <td>0.00</td>\n    </tr>\n    <tr>\n      <th>3</th>\n      <td>1</td>\n      <td>2023-01-01 00:03:48</td>\n      <td>2023-01-01 00:13:25</td>\n      <td>0.0</td>\n      <td>1.90</td>\n      <td>1.0</td>\n      <td>N</td>\n      <td>138</td>\n      <td>7</td>\n      <td>1</td>\n      <td>12.10</td>\n      <td>7.25</td>\n      <td>0.5</td>\n      <td>0.00</td>\n      <td>0.0</td>\n      <td>1.0</td>\n      <td>20.85</td>\n      <td>0.0</td>\n      <td>1.25</td>\n    </tr>\n    <tr>\n      <th>4</th>\n      <td>2</td>\n      <td>2023-01-01 00:10:29</td>\n      <td>2023-01-01 00:21:19</td>\n      <td>1.0</td>\n      <td>1.43</td>\n      <td>1.0</td>\n      <td>N</td>\n      <td>107</td>\n      <td>79</td>\n      <td>1</td>\n      <td>11.40</td>\n      <td>1.00</td>\n      <td>0.5</td>\n      <td>3.28</td>\n      <td>0.0</td>\n      <td>1.0</td>\n      <td>19.68</td>\n      <td>2.5</td>\n      <td>0.00</td>\n    </tr>\n    <tr>\n      <th>...</th>\n      <td>...</td>\n      <td>...</td>\n      <td>...</td>\n      <td>...</td>\n      <td>...</td>\n      <td>...</td>\n      <td>...</td>\n      <td>...</td>\n      <td>...</td>\n      <td>...</td>\n      <td>...</td>\n      <td>...</td>\n      <td>...</td>\n      <td>...</td>\n      <td>...</td>\n      <td>...</td>\n      <td>...</td>\n      <td>...</td>\n      <td>...</td>\n    </tr>\n    <tr>\n      <th>3066761</th>\n      <td>2</td>\n      <td>2023-01-31 23:58:34</td>\n      <td>2023-02-01 00:12:33</td>\n      <td>NaN</td>\n      <td>3.05</td>\n      <td>NaN</td>\n      <td>None</td>\n      <td>107</td>\n      <td>48</td>\n      <td>0</td>\n      <td>15.80</td>\n      <td>0.00</td>\n      <td>0.5</td>\n      <td>3.96</td>\n      <td>0.0</td>\n      <td>1.0</td>\n      <td>23.76</td>\n      <td>NaN</td>\n      <td>NaN</td>\n    </tr>\n    <tr>\n      <th>3066762</th>\n      <td>2</td>\n      <td>2023-01-31 23:31:09</td>\n      <td>2023-01-31 23:50:36</td>\n      <td>NaN</td>\n      <td>5.80</td>\n      <td>NaN</td>\n      <td>None</td>\n      <td>112</td>\n      <td>75</td>\n      <td>0</td>\n      <td>22.43</td>\n      <td>0.00</td>\n      <td>0.5</td>\n      <td>2.64</td>\n      <td>0.0</td>\n      <td>1.0</td>\n      <td>29.07</td>\n      <td>NaN</td>\n      <td>NaN</td>\n    </tr>\n    <tr>\n      <th>3066763</th>\n      <td>2</td>\n      <td>2023-01-31 23:01:05</td>\n      <td>2023-01-31 23:25:36</td>\n      <td>NaN</td>\n      <td>4.67</td>\n      <td>NaN</td>\n      <td>None</td>\n      <td>114</td>\n      <td>239</td>\n      <td>0</td>\n      <td>17.61</td>\n      <td>0.00</td>\n      <td>0.5</td>\n      <td>5.32</td>\n      <td>0.0</td>\n      <td>1.0</td>\n      <td>26.93</td>\n      <td>NaN</td>\n      <td>NaN</td>\n    </tr>\n    <tr>\n      <th>3066764</th>\n      <td>2</td>\n      <td>2023-01-31 23:40:00</td>\n      <td>2023-01-31 23:53:00</td>\n      <td>NaN</td>\n      <td>3.15</td>\n      <td>NaN</td>\n      <td>None</td>\n      <td>230</td>\n      <td>79</td>\n      <td>0</td>\n      <td>18.15</td>\n      <td>0.00</td>\n      <td>0.5</td>\n      <td>4.43</td>\n      <td>0.0</td>\n      <td>1.0</td>\n      <td>26.58</td>\n      <td>NaN</td>\n      <td>NaN</td>\n    </tr>\n    <tr>\n      <th>3066765</th>\n      <td>2</td>\n      <td>2023-01-31 23:07:32</td>\n      <td>2023-01-31 23:21:56</td>\n      <td>NaN</td>\n      <td>2.85</td>\n      <td>NaN</td>\n      <td>None</td>\n      <td>262</td>\n      <td>143</td>\n      <td>0</td>\n      <td>15.97</td>\n      <td>0.00</td>\n      <td>0.5</td>\n      <td>2.00</td>\n      <td>0.0</td>\n      <td>1.0</td>\n      <td>21.97</td>\n      <td>NaN</td>\n      <td>NaN</td>\n    </tr>\n  </tbody>\n</table>\n<p>3066766 rows × 19 columns</p>\n</div>"
     },
     "execution_count": 20,
     "metadata": {},
     "output_type": "execute_result"
    }
   ],
   "source": [
    "yellow_jan_23 = pd.read_parquet('yellow_tripdata_2023-01.parquet')\n",
    "yellow_jan_23"
   ],
   "metadata": {
    "collapsed": false,
    "ExecuteTime": {
     "end_time": "2024-05-20T08:51:58.067074Z",
     "start_time": "2024-05-20T08:51:57.127441Z"
    }
   },
   "id": "f7b70d3e680c3618",
   "execution_count": 20
  },
  {
   "cell_type": "code",
   "outputs": [
    {
     "name": "stdout",
     "output_type": "stream",
     "text": [
      "<class 'pandas.core.frame.DataFrame'>\n",
      "RangeIndex: 3066766 entries, 0 to 3066765\n",
      "Data columns (total 19 columns):\n",
      " #   Column                 Dtype         \n",
      "---  ------                 -----         \n",
      " 0   VendorID               int64         \n",
      " 1   tpep_pickup_datetime   datetime64[ns]\n",
      " 2   tpep_dropoff_datetime  datetime64[ns]\n",
      " 3   passenger_count        float64       \n",
      " 4   trip_distance          float64       \n",
      " 5   RatecodeID             float64       \n",
      " 6   store_and_fwd_flag     object        \n",
      " 7   PULocationID           int64         \n",
      " 8   DOLocationID           int64         \n",
      " 9   payment_type           int64         \n",
      " 10  fare_amount            float64       \n",
      " 11  extra                  float64       \n",
      " 12  mta_tax                float64       \n",
      " 13  tip_amount             float64       \n",
      " 14  tolls_amount           float64       \n",
      " 15  improvement_surcharge  float64       \n",
      " 16  total_amount           float64       \n",
      " 17  congestion_surcharge   float64       \n",
      " 18  airport_fee            float64       \n",
      "dtypes: datetime64[ns](2), float64(12), int64(4), object(1)\n",
      "memory usage: 444.6+ MB\n"
     ]
    }
   ],
   "source": [
    "yellow_jan_23.info()"
   ],
   "metadata": {
    "collapsed": false,
    "ExecuteTime": {
     "end_time": "2024-05-20T08:51:58.072951Z",
     "start_time": "2024-05-20T08:51:58.068103Z"
    }
   },
   "id": "136ccd5f0fb0d901",
   "execution_count": 21
  },
  {
   "cell_type": "code",
   "outputs": [],
   "source": [
    "yellow_jan_23['duration'] = yellow_jan_23.tpep_dropoff_datetime - yellow_jan_23.tpep_pickup_datetime\n",
    "yellow_jan_23.duration = yellow_jan_23.duration.apply(lambda td: td.total_seconds()/60)\n",
    "\n"
   ],
   "metadata": {
    "collapsed": false,
    "ExecuteTime": {
     "end_time": "2024-05-20T08:52:02.541460Z",
     "start_time": "2024-05-20T08:51:58.074664Z"
    }
   },
   "id": "178bad08a3af2657",
   "execution_count": 22
  },
  {
   "cell_type": "code",
   "outputs": [
    {
     "data": {
      "text/plain": "count    3.066766e+06\nmean     1.566900e+01\nstd      4.259435e+01\nmin     -2.920000e+01\n25%      7.116667e+00\n50%      1.151667e+01\n75%      1.830000e+01\nmax      1.002918e+04\nName: duration, dtype: float64"
     },
     "execution_count": 23,
     "metadata": {},
     "output_type": "execute_result"
    }
   ],
   "source": [
    "yellow_jan_23.duration.describe()"
   ],
   "metadata": {
    "collapsed": false,
    "ExecuteTime": {
     "end_time": "2024-05-20T08:52:02.621106Z",
     "start_time": "2024-05-20T08:52:02.542404Z"
    }
   },
   "id": "2ce1de47e4a9a687",
   "execution_count": 23
  },
  {
   "cell_type": "code",
   "outputs": [],
   "source": [
    "categorical = ['PULocationID', 'DOLocationID']\n",
    "numerical = ['trip_distance']\n",
    "\n",
    "yellow_jan_23[categorical] = yellow_jan_23[categorical].astype(str)"
   ],
   "metadata": {
    "collapsed": false,
    "ExecuteTime": {
     "end_time": "2024-05-20T08:52:03.690472Z",
     "start_time": "2024-05-20T08:52:02.622265Z"
    }
   },
   "id": "506b5d0300f0d67",
   "execution_count": 24
  },
  {
   "cell_type": "code",
   "outputs": [
    {
     "name": "stdout",
     "output_type": "stream",
     "text": [
      "<class 'pandas.core.frame.DataFrame'>\n",
      "RangeIndex: 3066766 entries, 0 to 3066765\n",
      "Data columns (total 20 columns):\n",
      " #   Column                 Dtype         \n",
      "---  ------                 -----         \n",
      " 0   VendorID               int64         \n",
      " 1   tpep_pickup_datetime   datetime64[ns]\n",
      " 2   tpep_dropoff_datetime  datetime64[ns]\n",
      " 3   passenger_count        float64       \n",
      " 4   trip_distance          float64       \n",
      " 5   RatecodeID             float64       \n",
      " 6   store_and_fwd_flag     object        \n",
      " 7   PULocationID           object        \n",
      " 8   DOLocationID           object        \n",
      " 9   payment_type           int64         \n",
      " 10  fare_amount            float64       \n",
      " 11  extra                  float64       \n",
      " 12  mta_tax                float64       \n",
      " 13  tip_amount             float64       \n",
      " 14  tolls_amount           float64       \n",
      " 15  improvement_surcharge  float64       \n",
      " 16  total_amount           float64       \n",
      " 17  congestion_surcharge   float64       \n",
      " 18  airport_fee            float64       \n",
      " 19  duration               float64       \n",
      "dtypes: datetime64[ns](2), float64(13), int64(2), object(3)\n",
      "memory usage: 468.0+ MB\n"
     ]
    }
   ],
   "source": [
    "yellow_jan_23.info()"
   ],
   "metadata": {
    "collapsed": false,
    "ExecuteTime": {
     "end_time": "2024-05-20T08:52:03.696602Z",
     "start_time": "2024-05-20T08:52:03.691343Z"
    }
   },
   "id": "5cfa0deee6605ce8",
   "execution_count": 25
  },
  {
   "cell_type": "code",
   "outputs": [
    {
     "data": {
      "text/plain": "           VendorID           tpep_pickup_datetime  \\\ncount  3.066766e+06                        3066766   \nmean   1.730215e+00  2023-01-17 00:22:26.288164096   \nmin    1.000000e+00            2008-12-31 23:01:42   \n25%    1.000000e+00  2023-01-09 16:21:57.249999872   \n50%    2.000000e+00     2023-01-17 08:42:29.500000   \n75%    2.000000e+00            2023-01-24 16:26:27   \nmax    2.000000e+00            2023-02-01 00:56:53   \nstd    4.438480e-01                            NaN   \n\n               tpep_dropoff_datetime  passenger_count  trip_distance  \\\ncount                        3066766     2.995023e+06   3.066766e+06   \nmean   2023-01-17 00:38:06.427873792     1.362532e+00   3.847342e+00   \nmin              2009-01-01 14:29:11     0.000000e+00   0.000000e+00   \n25%              2023-01-09 16:37:06     1.000000e+00   1.060000e+00   \n50%       2023-01-17 08:58:30.500000     1.000000e+00   1.800000e+00   \n75%              2023-01-24 16:42:49     1.000000e+00   3.330000e+00   \nmax              2023-02-02 09:28:47     9.000000e+00   2.589281e+05   \nstd                              NaN     8.961200e-01   2.495838e+02   \n\n         RatecodeID  payment_type   fare_amount         extra       mta_tax  \\\ncount  2.995023e+06  3.066766e+06  3.066766e+06  3.066766e+06  3.066766e+06   \nmean   1.497440e+00  1.194483e+00  1.836707e+01  1.537842e+00  4.882900e-01   \nmin    1.000000e+00  0.000000e+00 -9.000000e+02 -7.500000e+00 -5.000000e-01   \n25%    1.000000e+00  1.000000e+00  8.600000e+00  0.000000e+00  5.000000e-01   \n50%    1.000000e+00  1.000000e+00  1.280000e+01  1.000000e+00  5.000000e-01   \n75%    1.000000e+00  1.000000e+00  2.050000e+01  2.500000e+00  5.000000e-01   \nmax    9.900000e+01  4.000000e+00  1.160100e+03  1.250000e+01  5.316000e+01   \nstd    6.474767e+00  5.294762e-01  1.780782e+01  1.789592e+00  1.034641e-01   \n\n         tip_amount  tolls_amount  improvement_surcharge  total_amount  \\\ncount  3.066766e+06  3.066766e+06           3.066766e+06  3.066766e+06   \nmean   3.367941e+00  5.184907e-01           9.820847e-01  2.702038e+01   \nmin   -9.622000e+01 -6.500000e+01          -1.000000e+00 -7.510000e+02   \n25%    1.000000e+00  0.000000e+00           1.000000e+00  1.540000e+01   \n50%    2.720000e+00  0.000000e+00           1.000000e+00  2.016000e+01   \n75%    4.200000e+00  0.000000e+00           1.000000e+00  2.870000e+01   \nmax    3.808000e+02  1.969900e+02           1.000000e+00  1.169400e+03   \nstd    3.826759e+00  2.017579e+00           1.833529e-01  2.216359e+01   \n\n       congestion_surcharge   airport_fee      duration  \ncount          2.995023e+06  2.995023e+06  3.066766e+06  \nmean           2.274231e+00  1.074086e-01  1.566900e+01  \nmin           -2.500000e+00 -1.250000e+00 -2.920000e+01  \n25%            2.500000e+00  0.000000e+00  7.116667e+00  \n50%            2.500000e+00  0.000000e+00  1.151667e+01  \n75%            2.500000e+00  0.000000e+00  1.830000e+01  \nmax            2.500000e+00  1.250000e+00  1.002918e+04  \nstd            7.718454e-01  3.556511e-01  4.259435e+01  ",
      "text/html": "<div>\n<style scoped>\n    .dataframe tbody tr th:only-of-type {\n        vertical-align: middle;\n    }\n\n    .dataframe tbody tr th {\n        vertical-align: top;\n    }\n\n    .dataframe thead th {\n        text-align: right;\n    }\n</style>\n<table border=\"1\" class=\"dataframe\">\n  <thead>\n    <tr style=\"text-align: right;\">\n      <th></th>\n      <th>VendorID</th>\n      <th>tpep_pickup_datetime</th>\n      <th>tpep_dropoff_datetime</th>\n      <th>passenger_count</th>\n      <th>trip_distance</th>\n      <th>RatecodeID</th>\n      <th>payment_type</th>\n      <th>fare_amount</th>\n      <th>extra</th>\n      <th>mta_tax</th>\n      <th>tip_amount</th>\n      <th>tolls_amount</th>\n      <th>improvement_surcharge</th>\n      <th>total_amount</th>\n      <th>congestion_surcharge</th>\n      <th>airport_fee</th>\n      <th>duration</th>\n    </tr>\n  </thead>\n  <tbody>\n    <tr>\n      <th>count</th>\n      <td>3.066766e+06</td>\n      <td>3066766</td>\n      <td>3066766</td>\n      <td>2.995023e+06</td>\n      <td>3.066766e+06</td>\n      <td>2.995023e+06</td>\n      <td>3.066766e+06</td>\n      <td>3.066766e+06</td>\n      <td>3.066766e+06</td>\n      <td>3.066766e+06</td>\n      <td>3.066766e+06</td>\n      <td>3.066766e+06</td>\n      <td>3.066766e+06</td>\n      <td>3.066766e+06</td>\n      <td>2.995023e+06</td>\n      <td>2.995023e+06</td>\n      <td>3.066766e+06</td>\n    </tr>\n    <tr>\n      <th>mean</th>\n      <td>1.730215e+00</td>\n      <td>2023-01-17 00:22:26.288164096</td>\n      <td>2023-01-17 00:38:06.427873792</td>\n      <td>1.362532e+00</td>\n      <td>3.847342e+00</td>\n      <td>1.497440e+00</td>\n      <td>1.194483e+00</td>\n      <td>1.836707e+01</td>\n      <td>1.537842e+00</td>\n      <td>4.882900e-01</td>\n      <td>3.367941e+00</td>\n      <td>5.184907e-01</td>\n      <td>9.820847e-01</td>\n      <td>2.702038e+01</td>\n      <td>2.274231e+00</td>\n      <td>1.074086e-01</td>\n      <td>1.566900e+01</td>\n    </tr>\n    <tr>\n      <th>min</th>\n      <td>1.000000e+00</td>\n      <td>2008-12-31 23:01:42</td>\n      <td>2009-01-01 14:29:11</td>\n      <td>0.000000e+00</td>\n      <td>0.000000e+00</td>\n      <td>1.000000e+00</td>\n      <td>0.000000e+00</td>\n      <td>-9.000000e+02</td>\n      <td>-7.500000e+00</td>\n      <td>-5.000000e-01</td>\n      <td>-9.622000e+01</td>\n      <td>-6.500000e+01</td>\n      <td>-1.000000e+00</td>\n      <td>-7.510000e+02</td>\n      <td>-2.500000e+00</td>\n      <td>-1.250000e+00</td>\n      <td>-2.920000e+01</td>\n    </tr>\n    <tr>\n      <th>25%</th>\n      <td>1.000000e+00</td>\n      <td>2023-01-09 16:21:57.249999872</td>\n      <td>2023-01-09 16:37:06</td>\n      <td>1.000000e+00</td>\n      <td>1.060000e+00</td>\n      <td>1.000000e+00</td>\n      <td>1.000000e+00</td>\n      <td>8.600000e+00</td>\n      <td>0.000000e+00</td>\n      <td>5.000000e-01</td>\n      <td>1.000000e+00</td>\n      <td>0.000000e+00</td>\n      <td>1.000000e+00</td>\n      <td>1.540000e+01</td>\n      <td>2.500000e+00</td>\n      <td>0.000000e+00</td>\n      <td>7.116667e+00</td>\n    </tr>\n    <tr>\n      <th>50%</th>\n      <td>2.000000e+00</td>\n      <td>2023-01-17 08:42:29.500000</td>\n      <td>2023-01-17 08:58:30.500000</td>\n      <td>1.000000e+00</td>\n      <td>1.800000e+00</td>\n      <td>1.000000e+00</td>\n      <td>1.000000e+00</td>\n      <td>1.280000e+01</td>\n      <td>1.000000e+00</td>\n      <td>5.000000e-01</td>\n      <td>2.720000e+00</td>\n      <td>0.000000e+00</td>\n      <td>1.000000e+00</td>\n      <td>2.016000e+01</td>\n      <td>2.500000e+00</td>\n      <td>0.000000e+00</td>\n      <td>1.151667e+01</td>\n    </tr>\n    <tr>\n      <th>75%</th>\n      <td>2.000000e+00</td>\n      <td>2023-01-24 16:26:27</td>\n      <td>2023-01-24 16:42:49</td>\n      <td>1.000000e+00</td>\n      <td>3.330000e+00</td>\n      <td>1.000000e+00</td>\n      <td>1.000000e+00</td>\n      <td>2.050000e+01</td>\n      <td>2.500000e+00</td>\n      <td>5.000000e-01</td>\n      <td>4.200000e+00</td>\n      <td>0.000000e+00</td>\n      <td>1.000000e+00</td>\n      <td>2.870000e+01</td>\n      <td>2.500000e+00</td>\n      <td>0.000000e+00</td>\n      <td>1.830000e+01</td>\n    </tr>\n    <tr>\n      <th>max</th>\n      <td>2.000000e+00</td>\n      <td>2023-02-01 00:56:53</td>\n      <td>2023-02-02 09:28:47</td>\n      <td>9.000000e+00</td>\n      <td>2.589281e+05</td>\n      <td>9.900000e+01</td>\n      <td>4.000000e+00</td>\n      <td>1.160100e+03</td>\n      <td>1.250000e+01</td>\n      <td>5.316000e+01</td>\n      <td>3.808000e+02</td>\n      <td>1.969900e+02</td>\n      <td>1.000000e+00</td>\n      <td>1.169400e+03</td>\n      <td>2.500000e+00</td>\n      <td>1.250000e+00</td>\n      <td>1.002918e+04</td>\n    </tr>\n    <tr>\n      <th>std</th>\n      <td>4.438480e-01</td>\n      <td>NaN</td>\n      <td>NaN</td>\n      <td>8.961200e-01</td>\n      <td>2.495838e+02</td>\n      <td>6.474767e+00</td>\n      <td>5.294762e-01</td>\n      <td>1.780782e+01</td>\n      <td>1.789592e+00</td>\n      <td>1.034641e-01</td>\n      <td>3.826759e+00</td>\n      <td>2.017579e+00</td>\n      <td>1.833529e-01</td>\n      <td>2.216359e+01</td>\n      <td>7.718454e-01</td>\n      <td>3.556511e-01</td>\n      <td>4.259435e+01</td>\n    </tr>\n  </tbody>\n</table>\n</div>"
     },
     "execution_count": 26,
     "metadata": {},
     "output_type": "execute_result"
    }
   ],
   "source": [
    "yellow_jan_23.describe()"
   ],
   "metadata": {
    "collapsed": false,
    "ExecuteTime": {
     "end_time": "2024-05-20T08:52:04.631598Z",
     "start_time": "2024-05-20T08:52:03.697675Z"
    }
   },
   "id": "71106c8f04b7de83",
   "execution_count": 26
  },
  {
   "cell_type": "code",
   "outputs": [
    {
     "data": {
      "text/plain": "         VendorID tpep_pickup_datetime tpep_dropoff_datetime  passenger_count  \\\n0               2  2023-01-01 00:32:10   2023-01-01 00:40:36              1.0   \n1               2  2023-01-01 00:55:08   2023-01-01 01:01:27              1.0   \n2               2  2023-01-01 00:25:04   2023-01-01 00:37:49              1.0   \n3               1  2023-01-01 00:03:48   2023-01-01 00:13:25              0.0   \n4               2  2023-01-01 00:10:29   2023-01-01 00:21:19              1.0   \n...           ...                  ...                   ...              ...   \n3066761         2  2023-01-31 23:58:34   2023-02-01 00:12:33              NaN   \n3066762         2  2023-01-31 23:31:09   2023-01-31 23:50:36              NaN   \n3066763         2  2023-01-31 23:01:05   2023-01-31 23:25:36              NaN   \n3066764         2  2023-01-31 23:40:00   2023-01-31 23:53:00              NaN   \n3066765         2  2023-01-31 23:07:32   2023-01-31 23:21:56              NaN   \n\n         trip_distance  RatecodeID store_and_fwd_flag PULocationID  \\\n0                 0.97         1.0                  N          161   \n1                 1.10         1.0                  N           43   \n2                 2.51         1.0                  N           48   \n3                 1.90         1.0                  N          138   \n4                 1.43         1.0                  N          107   \n...                ...         ...                ...          ...   \n3066761           3.05         NaN               None          107   \n3066762           5.80         NaN               None          112   \n3066763           4.67         NaN               None          114   \n3066764           3.15         NaN               None          230   \n3066765           2.85         NaN               None          262   \n\n        DOLocationID  payment_type  fare_amount  extra  mta_tax  tip_amount  \\\n0                141             2         9.30   1.00      0.5        0.00   \n1                237             1         7.90   1.00      0.5        4.00   \n2                238             1        14.90   1.00      0.5       15.00   \n3                  7             1        12.10   7.25      0.5        0.00   \n4                 79             1        11.40   1.00      0.5        3.28   \n...              ...           ...          ...    ...      ...         ...   \n3066761           48             0        15.80   0.00      0.5        3.96   \n3066762           75             0        22.43   0.00      0.5        2.64   \n3066763          239             0        17.61   0.00      0.5        5.32   \n3066764           79             0        18.15   0.00      0.5        4.43   \n3066765          143             0        15.97   0.00      0.5        2.00   \n\n         tolls_amount  improvement_surcharge  total_amount  \\\n0                 0.0                    1.0         14.30   \n1                 0.0                    1.0         16.90   \n2                 0.0                    1.0         34.90   \n3                 0.0                    1.0         20.85   \n4                 0.0                    1.0         19.68   \n...               ...                    ...           ...   \n3066761           0.0                    1.0         23.76   \n3066762           0.0                    1.0         29.07   \n3066763           0.0                    1.0         26.93   \n3066764           0.0                    1.0         26.58   \n3066765           0.0                    1.0         21.97   \n\n         congestion_surcharge  airport_fee   duration  \n0                         2.5         0.00   8.433333  \n1                         2.5         0.00   6.316667  \n2                         2.5         0.00  12.750000  \n3                         0.0         1.25   9.616667  \n4                         2.5         0.00  10.833333  \n...                       ...          ...        ...  \n3066761                   NaN          NaN  13.983333  \n3066762                   NaN          NaN  19.450000  \n3066763                   NaN          NaN  24.516667  \n3066764                   NaN          NaN  13.000000  \n3066765                   NaN          NaN  14.400000  \n\n[3009173 rows x 20 columns]",
      "text/html": "<div>\n<style scoped>\n    .dataframe tbody tr th:only-of-type {\n        vertical-align: middle;\n    }\n\n    .dataframe tbody tr th {\n        vertical-align: top;\n    }\n\n    .dataframe thead th {\n        text-align: right;\n    }\n</style>\n<table border=\"1\" class=\"dataframe\">\n  <thead>\n    <tr style=\"text-align: right;\">\n      <th></th>\n      <th>VendorID</th>\n      <th>tpep_pickup_datetime</th>\n      <th>tpep_dropoff_datetime</th>\n      <th>passenger_count</th>\n      <th>trip_distance</th>\n      <th>RatecodeID</th>\n      <th>store_and_fwd_flag</th>\n      <th>PULocationID</th>\n      <th>DOLocationID</th>\n      <th>payment_type</th>\n      <th>fare_amount</th>\n      <th>extra</th>\n      <th>mta_tax</th>\n      <th>tip_amount</th>\n      <th>tolls_amount</th>\n      <th>improvement_surcharge</th>\n      <th>total_amount</th>\n      <th>congestion_surcharge</th>\n      <th>airport_fee</th>\n      <th>duration</th>\n    </tr>\n  </thead>\n  <tbody>\n    <tr>\n      <th>0</th>\n      <td>2</td>\n      <td>2023-01-01 00:32:10</td>\n      <td>2023-01-01 00:40:36</td>\n      <td>1.0</td>\n      <td>0.97</td>\n      <td>1.0</td>\n      <td>N</td>\n      <td>161</td>\n      <td>141</td>\n      <td>2</td>\n      <td>9.30</td>\n      <td>1.00</td>\n      <td>0.5</td>\n      <td>0.00</td>\n      <td>0.0</td>\n      <td>1.0</td>\n      <td>14.30</td>\n      <td>2.5</td>\n      <td>0.00</td>\n      <td>8.433333</td>\n    </tr>\n    <tr>\n      <th>1</th>\n      <td>2</td>\n      <td>2023-01-01 00:55:08</td>\n      <td>2023-01-01 01:01:27</td>\n      <td>1.0</td>\n      <td>1.10</td>\n      <td>1.0</td>\n      <td>N</td>\n      <td>43</td>\n      <td>237</td>\n      <td>1</td>\n      <td>7.90</td>\n      <td>1.00</td>\n      <td>0.5</td>\n      <td>4.00</td>\n      <td>0.0</td>\n      <td>1.0</td>\n      <td>16.90</td>\n      <td>2.5</td>\n      <td>0.00</td>\n      <td>6.316667</td>\n    </tr>\n    <tr>\n      <th>2</th>\n      <td>2</td>\n      <td>2023-01-01 00:25:04</td>\n      <td>2023-01-01 00:37:49</td>\n      <td>1.0</td>\n      <td>2.51</td>\n      <td>1.0</td>\n      <td>N</td>\n      <td>48</td>\n      <td>238</td>\n      <td>1</td>\n      <td>14.90</td>\n      <td>1.00</td>\n      <td>0.5</td>\n      <td>15.00</td>\n      <td>0.0</td>\n      <td>1.0</td>\n      <td>34.90</td>\n      <td>2.5</td>\n      <td>0.00</td>\n      <td>12.750000</td>\n    </tr>\n    <tr>\n      <th>3</th>\n      <td>1</td>\n      <td>2023-01-01 00:03:48</td>\n      <td>2023-01-01 00:13:25</td>\n      <td>0.0</td>\n      <td>1.90</td>\n      <td>1.0</td>\n      <td>N</td>\n      <td>138</td>\n      <td>7</td>\n      <td>1</td>\n      <td>12.10</td>\n      <td>7.25</td>\n      <td>0.5</td>\n      <td>0.00</td>\n      <td>0.0</td>\n      <td>1.0</td>\n      <td>20.85</td>\n      <td>0.0</td>\n      <td>1.25</td>\n      <td>9.616667</td>\n    </tr>\n    <tr>\n      <th>4</th>\n      <td>2</td>\n      <td>2023-01-01 00:10:29</td>\n      <td>2023-01-01 00:21:19</td>\n      <td>1.0</td>\n      <td>1.43</td>\n      <td>1.0</td>\n      <td>N</td>\n      <td>107</td>\n      <td>79</td>\n      <td>1</td>\n      <td>11.40</td>\n      <td>1.00</td>\n      <td>0.5</td>\n      <td>3.28</td>\n      <td>0.0</td>\n      <td>1.0</td>\n      <td>19.68</td>\n      <td>2.5</td>\n      <td>0.00</td>\n      <td>10.833333</td>\n    </tr>\n    <tr>\n      <th>...</th>\n      <td>...</td>\n      <td>...</td>\n      <td>...</td>\n      <td>...</td>\n      <td>...</td>\n      <td>...</td>\n      <td>...</td>\n      <td>...</td>\n      <td>...</td>\n      <td>...</td>\n      <td>...</td>\n      <td>...</td>\n      <td>...</td>\n      <td>...</td>\n      <td>...</td>\n      <td>...</td>\n      <td>...</td>\n      <td>...</td>\n      <td>...</td>\n      <td>...</td>\n    </tr>\n    <tr>\n      <th>3066761</th>\n      <td>2</td>\n      <td>2023-01-31 23:58:34</td>\n      <td>2023-02-01 00:12:33</td>\n      <td>NaN</td>\n      <td>3.05</td>\n      <td>NaN</td>\n      <td>None</td>\n      <td>107</td>\n      <td>48</td>\n      <td>0</td>\n      <td>15.80</td>\n      <td>0.00</td>\n      <td>0.5</td>\n      <td>3.96</td>\n      <td>0.0</td>\n      <td>1.0</td>\n      <td>23.76</td>\n      <td>NaN</td>\n      <td>NaN</td>\n      <td>13.983333</td>\n    </tr>\n    <tr>\n      <th>3066762</th>\n      <td>2</td>\n      <td>2023-01-31 23:31:09</td>\n      <td>2023-01-31 23:50:36</td>\n      <td>NaN</td>\n      <td>5.80</td>\n      <td>NaN</td>\n      <td>None</td>\n      <td>112</td>\n      <td>75</td>\n      <td>0</td>\n      <td>22.43</td>\n      <td>0.00</td>\n      <td>0.5</td>\n      <td>2.64</td>\n      <td>0.0</td>\n      <td>1.0</td>\n      <td>29.07</td>\n      <td>NaN</td>\n      <td>NaN</td>\n      <td>19.450000</td>\n    </tr>\n    <tr>\n      <th>3066763</th>\n      <td>2</td>\n      <td>2023-01-31 23:01:05</td>\n      <td>2023-01-31 23:25:36</td>\n      <td>NaN</td>\n      <td>4.67</td>\n      <td>NaN</td>\n      <td>None</td>\n      <td>114</td>\n      <td>239</td>\n      <td>0</td>\n      <td>17.61</td>\n      <td>0.00</td>\n      <td>0.5</td>\n      <td>5.32</td>\n      <td>0.0</td>\n      <td>1.0</td>\n      <td>26.93</td>\n      <td>NaN</td>\n      <td>NaN</td>\n      <td>24.516667</td>\n    </tr>\n    <tr>\n      <th>3066764</th>\n      <td>2</td>\n      <td>2023-01-31 23:40:00</td>\n      <td>2023-01-31 23:53:00</td>\n      <td>NaN</td>\n      <td>3.15</td>\n      <td>NaN</td>\n      <td>None</td>\n      <td>230</td>\n      <td>79</td>\n      <td>0</td>\n      <td>18.15</td>\n      <td>0.00</td>\n      <td>0.5</td>\n      <td>4.43</td>\n      <td>0.0</td>\n      <td>1.0</td>\n      <td>26.58</td>\n      <td>NaN</td>\n      <td>NaN</td>\n      <td>13.000000</td>\n    </tr>\n    <tr>\n      <th>3066765</th>\n      <td>2</td>\n      <td>2023-01-31 23:07:32</td>\n      <td>2023-01-31 23:21:56</td>\n      <td>NaN</td>\n      <td>2.85</td>\n      <td>NaN</td>\n      <td>None</td>\n      <td>262</td>\n      <td>143</td>\n      <td>0</td>\n      <td>15.97</td>\n      <td>0.00</td>\n      <td>0.5</td>\n      <td>2.00</td>\n      <td>0.0</td>\n      <td>1.0</td>\n      <td>21.97</td>\n      <td>NaN</td>\n      <td>NaN</td>\n      <td>14.400000</td>\n    </tr>\n  </tbody>\n</table>\n<p>3009173 rows × 20 columns</p>\n</div>"
     },
     "execution_count": 27,
     "metadata": {},
     "output_type": "execute_result"
    }
   ],
   "source": [
    "yellow_jan_23 = yellow_jan_23[(yellow_jan_23.duration >= 1) & (yellow_jan_23.duration <= 60)]\n",
    "yellow_jan_23 "
   ],
   "metadata": {
    "collapsed": false,
    "ExecuteTime": {
     "end_time": "2024-05-20T08:52:04.781711Z",
     "start_time": "2024-05-20T08:52:04.632509Z"
    }
   },
   "id": "3ac05b4749d44e3",
   "execution_count": 27
  },
  {
   "cell_type": "code",
   "outputs": [
    {
     "data": {
      "text/plain": "0.9812202822125979"
     },
     "execution_count": 28,
     "metadata": {},
     "output_type": "execute_result"
    }
   ],
   "source": [
    "3009173/3066766"
   ],
   "metadata": {
    "collapsed": false,
    "ExecuteTime": {
     "end_time": "2024-05-20T08:52:04.786898Z",
     "start_time": "2024-05-20T08:52:04.784064Z"
    }
   },
   "id": "a6959744ae277068",
   "execution_count": 28
  },
  {
   "cell_type": "code",
   "outputs": [
    {
     "data": {
      "text/plain": "count    3.009173e+06\nmean     1.420486e+01\nstd      9.939386e+00\nmin      1.000000e+00\n25%      7.216667e+00\n50%      1.155000e+01\n75%      1.818333e+01\nmax      6.000000e+01\nName: duration, dtype: float64"
     },
     "execution_count": 29,
     "metadata": {},
     "output_type": "execute_result"
    }
   ],
   "source": [
    "yellow_jan_23.duration.describe()"
   ],
   "metadata": {
    "collapsed": false,
    "ExecuteTime": {
     "end_time": "2024-05-20T08:52:04.865077Z",
     "start_time": "2024-05-20T08:52:04.787941Z"
    }
   },
   "id": "1f72badbdd7c144",
   "execution_count": 29
  },
  {
   "cell_type": "code",
   "outputs": [],
   "source": [
    "# turn the categorical columns into a list of dictionaries\n",
    "list_of_dicts = yellow_jan_23[categorical].to_dict(orient='records')"
   ],
   "metadata": {
    "collapsed": false,
    "ExecuteTime": {
     "end_time": "2024-05-20T08:53:43.198984Z",
     "start_time": "2024-05-20T08:53:38.859039Z"
    }
   },
   "id": "e77c24b665f22a8",
   "execution_count": 30
  },
  {
   "cell_type": "code",
   "outputs": [],
   "source": [
    "# Instantiate a dictionary vectorizer\n",
    "dv = DictVectorizer()"
   ],
   "metadata": {
    "collapsed": false,
    "ExecuteTime": {
     "end_time": "2024-05-20T08:53:55.676968Z",
     "start_time": "2024-05-20T08:53:55.674289Z"
    }
   },
   "id": "ea850e3eba9de57c",
   "execution_count": 31
  },
  {
   "cell_type": "code",
   "outputs": [
    {
     "name": "stdout",
     "output_type": "stream",
     "text": [
      "Dimensionality: (3009173, 515)\n"
     ]
    }
   ],
   "source": [
    "# Fit the vectorizer and transform the data into a feature matrix\n",
    "fm = dv.fit_transform(list_of_dicts)\n",
    "\n",
    "# Convert the feature matrix to an array\n",
    "fm_array = fm.toarray()\n",
    "\n",
    "# Print the dimensionality of the feature matrix\n",
    "dimensionality = fm_array.shape\n",
    "print(\"Dimensionality:\", dimensionality)"
   ],
   "metadata": {
    "collapsed": false,
    "ExecuteTime": {
     "end_time": "2024-05-20T08:54:16.922923Z",
     "start_time": "2024-05-20T08:54:08.265342Z"
    }
   },
   "id": "c58c4928500ccca",
   "execution_count": 32
  },
  {
   "cell_type": "code",
   "outputs": [],
   "source": [
    "def read_dataframe(filename):\n",
    "    df = pd.read_parquet(filename)\n",
    "\n",
    "    df['duration'] = df.tpep_dropoff_datetime - df.tpep_pickup_datetime\n",
    "    df.duration = df.duration.apply(lambda td: td.total_seconds() / 60)\n",
    "\n",
    "    df = df[(df.duration >= 1) & (df.duration <= 60)]\n",
    "\n",
    "    categorical = ['PULocationID', 'DOLocationID']\n",
    "    df[categorical] = df[categorical].astype(str)\n",
    "    \n",
    "    return df"
   ],
   "metadata": {
    "collapsed": false,
    "ExecuteTime": {
     "end_time": "2024-05-20T08:55:10.759580Z",
     "start_time": "2024-05-20T08:55:10.755673Z"
    }
   },
   "id": "e7976977cde01981",
   "execution_count": 33
  },
  {
   "cell_type": "code",
   "outputs": [],
   "source": [
    "# Convert categorical columns to a dictionary\n",
    "train_dicts = yellow_jan_23[categorical].to_dict(orient='records')\n",
    "\n",
    "# Instantiate a dictionary vectorizer\n",
    "dv = DictVectorizer()\n",
    "\n",
    "# Set up training set\n",
    "X_train = dv.fit_transform(train_dicts)"
   ],
   "metadata": {
    "collapsed": false,
    "ExecuteTime": {
     "end_time": "2024-05-20T08:55:58.012905Z",
     "start_time": "2024-05-20T08:55:49.016047Z"
    }
   },
   "id": "f6c712230ecd13a2",
   "execution_count": 34
  },
  {
   "cell_type": "code",
   "outputs": [
    {
     "data": {
      "text/plain": "LinearRegression()",
      "text/html": "<style>#sk-container-id-1 {\n  /* Definition of color scheme common for light and dark mode */\n  --sklearn-color-text: black;\n  --sklearn-color-line: gray;\n  /* Definition of color scheme for unfitted estimators */\n  --sklearn-color-unfitted-level-0: #fff5e6;\n  --sklearn-color-unfitted-level-1: #f6e4d2;\n  --sklearn-color-unfitted-level-2: #ffe0b3;\n  --sklearn-color-unfitted-level-3: chocolate;\n  /* Definition of color scheme for fitted estimators */\n  --sklearn-color-fitted-level-0: #f0f8ff;\n  --sklearn-color-fitted-level-1: #d4ebff;\n  --sklearn-color-fitted-level-2: #b3dbfd;\n  --sklearn-color-fitted-level-3: cornflowerblue;\n\n  /* Specific color for light theme */\n  --sklearn-color-text-on-default-background: var(--sg-text-color, var(--theme-code-foreground, var(--jp-content-font-color1, black)));\n  --sklearn-color-background: var(--sg-background-color, var(--theme-background, var(--jp-layout-color0, white)));\n  --sklearn-color-border-box: var(--sg-text-color, var(--theme-code-foreground, var(--jp-content-font-color1, black)));\n  --sklearn-color-icon: #696969;\n\n  @media (prefers-color-scheme: dark) {\n    /* Redefinition of color scheme for dark theme */\n    --sklearn-color-text-on-default-background: var(--sg-text-color, var(--theme-code-foreground, var(--jp-content-font-color1, white)));\n    --sklearn-color-background: var(--sg-background-color, var(--theme-background, var(--jp-layout-color0, #111)));\n    --sklearn-color-border-box: var(--sg-text-color, var(--theme-code-foreground, var(--jp-content-font-color1, white)));\n    --sklearn-color-icon: #878787;\n  }\n}\n\n#sk-container-id-1 {\n  color: var(--sklearn-color-text);\n}\n\n#sk-container-id-1 pre {\n  padding: 0;\n}\n\n#sk-container-id-1 input.sk-hidden--visually {\n  border: 0;\n  clip: rect(1px 1px 1px 1px);\n  clip: rect(1px, 1px, 1px, 1px);\n  height: 1px;\n  margin: -1px;\n  overflow: hidden;\n  padding: 0;\n  position: absolute;\n  width: 1px;\n}\n\n#sk-container-id-1 div.sk-dashed-wrapped {\n  border: 1px dashed var(--sklearn-color-line);\n  margin: 0 0.4em 0.5em 0.4em;\n  box-sizing: border-box;\n  padding-bottom: 0.4em;\n  background-color: var(--sklearn-color-background);\n}\n\n#sk-container-id-1 div.sk-container {\n  /* jupyter's `normalize.less` sets `[hidden] { display: none; }`\n     but bootstrap.min.css set `[hidden] { display: none !important; }`\n     so we also need the `!important` here to be able to override the\n     default hidden behavior on the sphinx rendered scikit-learn.org.\n     See: https://github.com/scikit-learn/scikit-learn/issues/21755 */\n  display: inline-block !important;\n  position: relative;\n}\n\n#sk-container-id-1 div.sk-text-repr-fallback {\n  display: none;\n}\n\ndiv.sk-parallel-item,\ndiv.sk-serial,\ndiv.sk-item {\n  /* draw centered vertical line to link estimators */\n  background-image: linear-gradient(var(--sklearn-color-text-on-default-background), var(--sklearn-color-text-on-default-background));\n  background-size: 2px 100%;\n  background-repeat: no-repeat;\n  background-position: center center;\n}\n\n/* Parallel-specific style estimator block */\n\n#sk-container-id-1 div.sk-parallel-item::after {\n  content: \"\";\n  width: 100%;\n  border-bottom: 2px solid var(--sklearn-color-text-on-default-background);\n  flex-grow: 1;\n}\n\n#sk-container-id-1 div.sk-parallel {\n  display: flex;\n  align-items: stretch;\n  justify-content: center;\n  background-color: var(--sklearn-color-background);\n  position: relative;\n}\n\n#sk-container-id-1 div.sk-parallel-item {\n  display: flex;\n  flex-direction: column;\n}\n\n#sk-container-id-1 div.sk-parallel-item:first-child::after {\n  align-self: flex-end;\n  width: 50%;\n}\n\n#sk-container-id-1 div.sk-parallel-item:last-child::after {\n  align-self: flex-start;\n  width: 50%;\n}\n\n#sk-container-id-1 div.sk-parallel-item:only-child::after {\n  width: 0;\n}\n\n/* Serial-specific style estimator block */\n\n#sk-container-id-1 div.sk-serial {\n  display: flex;\n  flex-direction: column;\n  align-items: center;\n  background-color: var(--sklearn-color-background);\n  padding-right: 1em;\n  padding-left: 1em;\n}\n\n\n/* Toggleable style: style used for estimator/Pipeline/ColumnTransformer box that is\nclickable and can be expanded/collapsed.\n- Pipeline and ColumnTransformer use this feature and define the default style\n- Estimators will overwrite some part of the style using the `sk-estimator` class\n*/\n\n/* Pipeline and ColumnTransformer style (default) */\n\n#sk-container-id-1 div.sk-toggleable {\n  /* Default theme specific background. It is overwritten whether we have a\n  specific estimator or a Pipeline/ColumnTransformer */\n  background-color: var(--sklearn-color-background);\n}\n\n/* Toggleable label */\n#sk-container-id-1 label.sk-toggleable__label {\n  cursor: pointer;\n  display: block;\n  width: 100%;\n  margin-bottom: 0;\n  padding: 0.5em;\n  box-sizing: border-box;\n  text-align: center;\n}\n\n#sk-container-id-1 label.sk-toggleable__label-arrow:before {\n  /* Arrow on the left of the label */\n  content: \"▸\";\n  float: left;\n  margin-right: 0.25em;\n  color: var(--sklearn-color-icon);\n}\n\n#sk-container-id-1 label.sk-toggleable__label-arrow:hover:before {\n  color: var(--sklearn-color-text);\n}\n\n/* Toggleable content - dropdown */\n\n#sk-container-id-1 div.sk-toggleable__content {\n  max-height: 0;\n  max-width: 0;\n  overflow: hidden;\n  text-align: left;\n  /* unfitted */\n  background-color: var(--sklearn-color-unfitted-level-0);\n}\n\n#sk-container-id-1 div.sk-toggleable__content.fitted {\n  /* fitted */\n  background-color: var(--sklearn-color-fitted-level-0);\n}\n\n#sk-container-id-1 div.sk-toggleable__content pre {\n  margin: 0.2em;\n  border-radius: 0.25em;\n  color: var(--sklearn-color-text);\n  /* unfitted */\n  background-color: var(--sklearn-color-unfitted-level-0);\n}\n\n#sk-container-id-1 div.sk-toggleable__content.fitted pre {\n  /* unfitted */\n  background-color: var(--sklearn-color-fitted-level-0);\n}\n\n#sk-container-id-1 input.sk-toggleable__control:checked~div.sk-toggleable__content {\n  /* Expand drop-down */\n  max-height: 200px;\n  max-width: 100%;\n  overflow: auto;\n}\n\n#sk-container-id-1 input.sk-toggleable__control:checked~label.sk-toggleable__label-arrow:before {\n  content: \"▾\";\n}\n\n/* Pipeline/ColumnTransformer-specific style */\n\n#sk-container-id-1 div.sk-label input.sk-toggleable__control:checked~label.sk-toggleable__label {\n  color: var(--sklearn-color-text);\n  background-color: var(--sklearn-color-unfitted-level-2);\n}\n\n#sk-container-id-1 div.sk-label.fitted input.sk-toggleable__control:checked~label.sk-toggleable__label {\n  background-color: var(--sklearn-color-fitted-level-2);\n}\n\n/* Estimator-specific style */\n\n/* Colorize estimator box */\n#sk-container-id-1 div.sk-estimator input.sk-toggleable__control:checked~label.sk-toggleable__label {\n  /* unfitted */\n  background-color: var(--sklearn-color-unfitted-level-2);\n}\n\n#sk-container-id-1 div.sk-estimator.fitted input.sk-toggleable__control:checked~label.sk-toggleable__label {\n  /* fitted */\n  background-color: var(--sklearn-color-fitted-level-2);\n}\n\n#sk-container-id-1 div.sk-label label.sk-toggleable__label,\n#sk-container-id-1 div.sk-label label {\n  /* The background is the default theme color */\n  color: var(--sklearn-color-text-on-default-background);\n}\n\n/* On hover, darken the color of the background */\n#sk-container-id-1 div.sk-label:hover label.sk-toggleable__label {\n  color: var(--sklearn-color-text);\n  background-color: var(--sklearn-color-unfitted-level-2);\n}\n\n/* Label box, darken color on hover, fitted */\n#sk-container-id-1 div.sk-label.fitted:hover label.sk-toggleable__label.fitted {\n  color: var(--sklearn-color-text);\n  background-color: var(--sklearn-color-fitted-level-2);\n}\n\n/* Estimator label */\n\n#sk-container-id-1 div.sk-label label {\n  font-family: monospace;\n  font-weight: bold;\n  display: inline-block;\n  line-height: 1.2em;\n}\n\n#sk-container-id-1 div.sk-label-container {\n  text-align: center;\n}\n\n/* Estimator-specific */\n#sk-container-id-1 div.sk-estimator {\n  font-family: monospace;\n  border: 1px dotted var(--sklearn-color-border-box);\n  border-radius: 0.25em;\n  box-sizing: border-box;\n  margin-bottom: 0.5em;\n  /* unfitted */\n  background-color: var(--sklearn-color-unfitted-level-0);\n}\n\n#sk-container-id-1 div.sk-estimator.fitted {\n  /* fitted */\n  background-color: var(--sklearn-color-fitted-level-0);\n}\n\n/* on hover */\n#sk-container-id-1 div.sk-estimator:hover {\n  /* unfitted */\n  background-color: var(--sklearn-color-unfitted-level-2);\n}\n\n#sk-container-id-1 div.sk-estimator.fitted:hover {\n  /* fitted */\n  background-color: var(--sklearn-color-fitted-level-2);\n}\n\n/* Specification for estimator info (e.g. \"i\" and \"?\") */\n\n/* Common style for \"i\" and \"?\" */\n\n.sk-estimator-doc-link,\na:link.sk-estimator-doc-link,\na:visited.sk-estimator-doc-link {\n  float: right;\n  font-size: smaller;\n  line-height: 1em;\n  font-family: monospace;\n  background-color: var(--sklearn-color-background);\n  border-radius: 1em;\n  height: 1em;\n  width: 1em;\n  text-decoration: none !important;\n  margin-left: 1ex;\n  /* unfitted */\n  border: var(--sklearn-color-unfitted-level-1) 1pt solid;\n  color: var(--sklearn-color-unfitted-level-1);\n}\n\n.sk-estimator-doc-link.fitted,\na:link.sk-estimator-doc-link.fitted,\na:visited.sk-estimator-doc-link.fitted {\n  /* fitted */\n  border: var(--sklearn-color-fitted-level-1) 1pt solid;\n  color: var(--sklearn-color-fitted-level-1);\n}\n\n/* On hover */\ndiv.sk-estimator:hover .sk-estimator-doc-link:hover,\n.sk-estimator-doc-link:hover,\ndiv.sk-label-container:hover .sk-estimator-doc-link:hover,\n.sk-estimator-doc-link:hover {\n  /* unfitted */\n  background-color: var(--sklearn-color-unfitted-level-3);\n  color: var(--sklearn-color-background);\n  text-decoration: none;\n}\n\ndiv.sk-estimator.fitted:hover .sk-estimator-doc-link.fitted:hover,\n.sk-estimator-doc-link.fitted:hover,\ndiv.sk-label-container:hover .sk-estimator-doc-link.fitted:hover,\n.sk-estimator-doc-link.fitted:hover {\n  /* fitted */\n  background-color: var(--sklearn-color-fitted-level-3);\n  color: var(--sklearn-color-background);\n  text-decoration: none;\n}\n\n/* Span, style for the box shown on hovering the info icon */\n.sk-estimator-doc-link span {\n  display: none;\n  z-index: 9999;\n  position: relative;\n  font-weight: normal;\n  right: .2ex;\n  padding: .5ex;\n  margin: .5ex;\n  width: min-content;\n  min-width: 20ex;\n  max-width: 50ex;\n  color: var(--sklearn-color-text);\n  box-shadow: 2pt 2pt 4pt #999;\n  /* unfitted */\n  background: var(--sklearn-color-unfitted-level-0);\n  border: .5pt solid var(--sklearn-color-unfitted-level-3);\n}\n\n.sk-estimator-doc-link.fitted span {\n  /* fitted */\n  background: var(--sklearn-color-fitted-level-0);\n  border: var(--sklearn-color-fitted-level-3);\n}\n\n.sk-estimator-doc-link:hover span {\n  display: block;\n}\n\n/* \"?\"-specific style due to the `<a>` HTML tag */\n\n#sk-container-id-1 a.estimator_doc_link {\n  float: right;\n  font-size: 1rem;\n  line-height: 1em;\n  font-family: monospace;\n  background-color: var(--sklearn-color-background);\n  border-radius: 1rem;\n  height: 1rem;\n  width: 1rem;\n  text-decoration: none;\n  /* unfitted */\n  color: var(--sklearn-color-unfitted-level-1);\n  border: var(--sklearn-color-unfitted-level-1) 1pt solid;\n}\n\n#sk-container-id-1 a.estimator_doc_link.fitted {\n  /* fitted */\n  border: var(--sklearn-color-fitted-level-1) 1pt solid;\n  color: var(--sklearn-color-fitted-level-1);\n}\n\n/* On hover */\n#sk-container-id-1 a.estimator_doc_link:hover {\n  /* unfitted */\n  background-color: var(--sklearn-color-unfitted-level-3);\n  color: var(--sklearn-color-background);\n  text-decoration: none;\n}\n\n#sk-container-id-1 a.estimator_doc_link.fitted:hover {\n  /* fitted */\n  background-color: var(--sklearn-color-fitted-level-3);\n}\n</style><div id=\"sk-container-id-1\" class=\"sk-top-container\"><div class=\"sk-text-repr-fallback\"><pre>LinearRegression()</pre><b>In a Jupyter environment, please rerun this cell to show the HTML representation or trust the notebook. <br />On GitHub, the HTML representation is unable to render, please try loading this page with nbviewer.org.</b></div><div class=\"sk-container\" hidden><div class=\"sk-item\"><div class=\"sk-estimator fitted sk-toggleable\"><input class=\"sk-toggleable__control sk-hidden--visually\" id=\"sk-estimator-id-1\" type=\"checkbox\" checked><label for=\"sk-estimator-id-1\" class=\"sk-toggleable__label fitted sk-toggleable__label-arrow fitted\">&nbsp;&nbsp;LinearRegression<a class=\"sk-estimator-doc-link fitted\" rel=\"noreferrer\" target=\"_blank\" href=\"https://scikit-learn.org/1.5/modules/generated/sklearn.linear_model.LinearRegression.html\">?<span>Documentation for LinearRegression</span></a><span class=\"sk-estimator-doc-link fitted\">i<span>Fitted</span></span></label><div class=\"sk-toggleable__content fitted\"><pre>LinearRegression()</pre></div> </div></div></div></div>"
     },
     "execution_count": 36,
     "metadata": {},
     "output_type": "execute_result"
    }
   ],
   "source": [
    "# define target variable and assign to y_train\n",
    "target = 'duration'\n",
    "y_train = yellow_jan_23[target].values\n",
    "\n",
    "# instantiate linear regression model with default parameters\n",
    "lr = LinearRegression()\n",
    "\n",
    "# fit model to training data\n",
    "lr.fit(X_train, y_train)"
   ],
   "metadata": {
    "collapsed": false,
    "ExecuteTime": {
     "end_time": "2024-05-20T08:57:56.105851Z",
     "start_time": "2024-05-20T08:56:39.604556Z"
    }
   },
   "id": "4c82bc0f838fa0ac",
   "execution_count": 36
  },
  {
   "cell_type": "code",
   "outputs": [],
   "source": [
    "# get predictions\n",
    "y_pred = lr.predict(X_train)"
   ],
   "metadata": {
    "collapsed": false,
    "ExecuteTime": {
     "end_time": "2024-05-20T08:58:53.502617Z",
     "start_time": "2024-05-20T08:58:53.372031Z"
    }
   },
   "id": "a2c5c55f7d053b8e",
   "execution_count": 37
  },
  {
   "cell_type": "code",
   "outputs": [
    {
     "data": {
      "text/plain": "7.649262060860987"
     },
     "execution_count": 40,
     "metadata": {},
     "output_type": "execute_result"
    }
   ],
   "source": [
    "from sklearn.metrics import root_mean_squared_error\n",
    "\n",
    "# calculate RMSE\n",
    "root_mean_squared_error(y_train, y_pred) "
   ],
   "metadata": {
    "collapsed": false,
    "ExecuteTime": {
     "end_time": "2024-05-20T09:01:59.766295Z",
     "start_time": "2024-05-20T09:01:59.757189Z"
    }
   },
   "id": "6505c011907ad369",
   "execution_count": 40
  },
  {
   "cell_type": "code",
   "outputs": [
    {
     "data": {
      "text/plain": "7.778948512304405"
     },
     "execution_count": 41,
     "metadata": {},
     "output_type": "execute_result"
    }
   ],
   "source": [
    "# read in the validation set\n",
    "yellow_feb_23 = read_dataframe('yellow_tripdata_2023-02.parquet')\n",
    "\n",
    "# convert categorical columns to strings\n",
    "yellow_feb_23[categorical] = yellow_feb_23[categorical].astype(str)\n",
    "\n",
    "# remove outliers by clipping duration between 1 and 60 mins\n",
    "yellow_feb_23 = yellow_feb_23[(yellow_feb_23.duration >= 1) & (yellow_feb_23.duration <= 60)]\n",
    "\n",
    "# Instantiate a dictionary vectorizer\n",
    "dv = DictVectorizer()\n",
    "\n",
    "# reinstate our training set\n",
    "train_dicts = yellow_feb_23[categorical].to_dict(orient='records')\n",
    "X_train = dv.fit_transform(train_dicts)\n",
    "\n",
    "# turn the categorical columns into a list of dictionaries\n",
    "val_dicts = yellow_feb_23[categorical].to_dict(orient='records')\n",
    "X_val = dv.transform(val_dicts)\n",
    "\n",
    "# define target variable and assign to y_val\n",
    "target = 'duration'\n",
    "y_train = yellow_feb_23[target].values\n",
    "y_val = yellow_feb_23[target].values\n",
    "\n",
    "# instantiate & fit our model to the TRAINING set\n",
    "lr = LinearRegression()\n",
    "lr.fit(X_train,y_train)\n",
    "\n",
    "# Get predictions for the VALIDATION set\n",
    "y_pred = lr.predict(X_val)\n",
    "\n",
    "# calculate RMSE\n",
    "root_mean_squared_error(y_val, y_pred) "
   ],
   "metadata": {
    "collapsed": false,
    "ExecuteTime": {
     "end_time": "2024-05-20T09:20:42.179107Z",
     "start_time": "2024-05-20T09:19:16.566690Z"
    }
   },
   "id": "24bfc0895c7a180",
   "execution_count": 41
  },
  {
   "cell_type": "code",
   "outputs": [],
   "source": [],
   "metadata": {
    "collapsed": false
   },
   "id": "66e6c379bf70ff9e"
  }
 ],
 "metadata": {
  "kernelspec": {
   "display_name": "Python 3",
   "language": "python",
   "name": "python3"
  },
  "language_info": {
   "codemirror_mode": {
    "name": "ipython",
    "version": 2
   },
   "file_extension": ".py",
   "mimetype": "text/x-python",
   "name": "python",
   "nbconvert_exporter": "python",
   "pygments_lexer": "ipython2",
   "version": "2.7.6"
  }
 },
 "nbformat": 4,
 "nbformat_minor": 5
}
