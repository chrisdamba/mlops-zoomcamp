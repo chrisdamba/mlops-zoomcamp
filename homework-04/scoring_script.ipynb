{
 "cells": [
  {
   "cell_type": "code",
   "execution_count": 1,
   "id": "2c51efaa",
   "metadata": {
    "ExecuteTime": {
     "end_time": "2024-06-13T19:47:22.451643Z",
     "start_time": "2024-06-13T19:47:21.333644Z"
    }
   },
   "outputs": [
    {
     "name": "stdout",
     "output_type": "stream",
     "text": [
      "scikit-learn==1.5.0rc1\r\n"
     ]
    }
   ],
   "source": [
    "!pip freeze | grep scikit-learn"
   ]
  },
  {
   "cell_type": "code",
   "execution_count": 2,
   "id": "4acf73a0-51b5-4663-9bb8-8eb947863e17",
   "metadata": {
    "ExecuteTime": {
     "end_time": "2024-06-13T19:47:27.494774Z",
     "start_time": "2024-06-13T19:47:27.339432Z"
    }
   },
   "outputs": [
    {
     "name": "stdout",
     "output_type": "stream",
     "text": [
      "Python 3.9.13\r\n"
     ]
    }
   ],
   "source": [
    "!python -V"
   ]
  },
  {
   "cell_type": "code",
   "execution_count": 3,
   "id": "0ef880a0",
   "metadata": {
    "ExecuteTime": {
     "end_time": "2024-06-13T19:47:33.099251Z",
     "start_time": "2024-06-13T19:47:32.279390Z"
    }
   },
   "outputs": [],
   "source": [
    "import pickle\n",
    "import pandas as pd"
   ]
  },
  {
   "cell_type": "code",
   "execution_count": 4,
   "id": "7836ccfd",
   "metadata": {
    "ExecuteTime": {
     "end_time": "2024-06-13T19:50:49.149399Z",
     "start_time": "2024-06-13T19:50:46.591169Z"
    }
   },
   "outputs": [
    {
     "name": "stderr",
     "output_type": "stream",
     "text": [
      "/Users/chridam/dev/work/datatalk/mlops-zoomcamp/.venv/lib/python3.9/site-packages/sklearn/base.py:376: InconsistentVersionWarning: Trying to unpickle estimator DictVectorizer from version 1.5.0 when using version 1.5.0rc1. This might lead to breaking code or invalid results. Use at your own risk. For more info please refer to:\n",
      "https://scikit-learn.org/stable/model_persistence.html#security-maintainability-limitations\n",
      "  warnings.warn(\n",
      "/Users/chridam/dev/work/datatalk/mlops-zoomcamp/.venv/lib/python3.9/site-packages/sklearn/base.py:376: InconsistentVersionWarning: Trying to unpickle estimator LinearRegression from version 1.5.0 when using version 1.5.0rc1. This might lead to breaking code or invalid results. Use at your own risk. For more info please refer to:\n",
      "https://scikit-learn.org/stable/model_persistence.html#security-maintainability-limitations\n",
      "  warnings.warn(\n"
     ]
    }
   ],
   "source": [
    "with open('model.bin', 'rb') as f_in:\n",
    "    dv, model = pickle.load(f_in)"
   ]
  },
  {
   "cell_type": "code",
   "execution_count": 5,
   "id": "41c08294",
   "metadata": {
    "ExecuteTime": {
     "end_time": "2024-06-13T19:50:58.290491Z",
     "start_time": "2024-06-13T19:50:58.287194Z"
    }
   },
   "outputs": [],
   "source": [
    "categorical = ['PULocationID', 'DOLocationID']\n",
    "\n",
    "def read_data(filename):\n",
    "    df = pd.read_parquet(filename)\n",
    "    \n",
    "    df['duration'] = df.tpep_dropoff_datetime - df.tpep_pickup_datetime\n",
    "    df['duration'] = df.duration.dt.total_seconds() / 60\n",
    "\n",
    "    df = df[(df.duration >= 1) & (df.duration <= 60)].copy()\n",
    "\n",
    "    df[categorical] = df[categorical].fillna(-1).astype('int').astype('str')\n",
    "    \n",
    "    return df"
   ]
  },
  {
   "cell_type": "code",
   "execution_count": 6,
   "id": "4854399a",
   "metadata": {
    "ExecuteTime": {
     "end_time": "2024-06-13T19:51:10.889627Z",
     "start_time": "2024-06-13T19:51:02.780297Z"
    }
   },
   "outputs": [],
   "source": [
    "df = read_data('https://d37ci6vzurychx.cloudfront.net/trip-data/yellow_tripdata_2023-03.parquet')"
   ]
  },
  {
   "cell_type": "code",
   "execution_count": 7,
   "id": "669fda0a",
   "metadata": {
    "ExecuteTime": {
     "end_time": "2024-06-13T19:51:47.211953Z",
     "start_time": "2024-06-13T19:51:37.454837Z"
    }
   },
   "outputs": [],
   "source": [
    "dicts = df[categorical].to_dict(orient='records')\n",
    "X_val = dv.transform(dicts)\n",
    "y_pred = model.predict(X_val)"
   ]
  },
  {
   "cell_type": "code",
   "execution_count": 8,
   "id": "bf532ae7-1897-428c-ba0c-875ccaf7d76c",
   "metadata": {
    "ExecuteTime": {
     "end_time": "2024-06-13T19:54:36.527346Z",
     "start_time": "2024-06-13T19:54:36.500474Z"
    }
   },
   "outputs": [
    {
     "data": {
      "text/plain": "6.247488852238703"
     },
     "execution_count": 8,
     "metadata": {},
     "output_type": "execute_result"
    }
   ],
   "source": [
    "std_dev = y_pred.std()\n",
    "std_dev"
   ]
  },
  {
   "cell_type": "code",
   "outputs": [],
   "source": [
    "year = 2023\n",
    "month = 3\n",
    "df['ride_id'] = f'{year:04d}/{month:02d}_' + df.index.astype('str')"
   ],
   "metadata": {
    "collapsed": false,
    "ExecuteTime": {
     "end_time": "2024-06-13T19:56:23.991376Z",
     "start_time": "2024-06-13T19:56:22.996261Z"
    }
   },
   "id": "acf552b80058ecfc",
   "execution_count": 12
  },
  {
   "cell_type": "code",
   "outputs": [],
   "source": [
    "df_result = pd.DataFrame({\n",
    "    'ride_id': df['ride_id'],\n",
    "    'predicted_duration': y_pred,\n",
    "    # 'actual_duration': df['duration'],\n",
    "    # 'tpep_pickup_datetime': df['tpep_pickup_datetime'],\n",
    "    # 'tpep_dropoff_datetime': df['tpep_dropoff_datetime'],\n",
    "    # 'PULocationID': df['PULocationID'],\n",
    "    # 'DOLocationID': df['DOLocationID'],\n",
    "    # 'diff': df['duration'] - y_pred\n",
    "})\n",
    "\n",
    "# Save the dataframe to a parquet file\n",
    "output_file = 'predicted_durations.parquet'\n",
    "df_result.to_parquet(output_file, engine='pyarrow', compression=None, index=False)"
   ],
   "metadata": {
    "collapsed": false,
    "ExecuteTime": {
     "end_time": "2024-06-13T20:13:14.020246Z",
     "start_time": "2024-06-13T20:13:13.579598Z"
    }
   },
   "id": "2ea5447b29247545",
   "execution_count": 19
  },
  {
   "cell_type": "code",
   "outputs": [
    {
     "data": {
      "text/plain": "65.46199798583984"
     },
     "execution_count": 20,
     "metadata": {},
     "output_type": "execute_result"
    }
   ],
   "source": [
    "import os\n",
    "\n",
    "# Get the size of the output file\n",
    "output_file = 'predicted_durations.parquet'\n",
    "file_size = os.path.getsize(output_file)\n",
    "\n",
    "file_size_mb = file_size / (1024 * 1024)  # Convert to megabytes\n",
    "file_size_mb"
   ],
   "metadata": {
    "collapsed": false,
    "ExecuteTime": {
     "end_time": "2024-06-13T20:13:16.761687Z",
     "start_time": "2024-06-13T20:13:16.756576Z"
    }
   },
   "id": "c7a24e73b91e6958",
   "execution_count": 20
  }
 ],
 "metadata": {
  "kernelspec": {
   "display_name": "Python 3 (ipykernel)",
   "language": "python",
   "name": "python3"
  },
  "language_info": {
   "codemirror_mode": {
    "name": "ipython",
    "version": 3
   },
   "file_extension": ".py",
   "mimetype": "text/x-python",
   "name": "python",
   "nbconvert_exporter": "python",
   "pygments_lexer": "ipython3",
   "version": "3.10.13"
  }
 },
 "nbformat": 4,
 "nbformat_minor": 5
}
